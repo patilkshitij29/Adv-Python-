{
 "cells": [
  {
   "cell_type": "code",
   "execution_count": null,
   "metadata": {},
   "outputs": [],
   "source": [
    "def add(a: int|float , b: int|float) ->int|float:\n",
    "    c = a+b\n",
    "    return c\n",
    "\n",
    "\n"
   ]
  },
  {
   "cell_type": "code",
   "execution_count": 3,
   "metadata": {},
   "outputs": [
    {
     "data": {
      "text/plain": [
       "11.5"
      ]
     },
     "execution_count": 3,
     "metadata": {},
     "output_type": "execute_result"
    }
   ],
   "source": [
    "add(1.5,10)"
   ]
  },
  {
   "cell_type": "markdown",
   "metadata": {},
   "source": []
  },
  {
   "cell_type": "code",
   "execution_count": 4,
   "metadata": {},
   "outputs": [
    {
     "data": {
      "text/plain": [
       "65.65"
      ]
     },
     "execution_count": 4,
     "metadata": {},
     "output_type": "execute_result"
    }
   ],
   "source": [
    "add(10,55.65)"
   ]
  },
  {
   "cell_type": "code",
   "execution_count": 5,
   "metadata": {},
   "outputs": [
    {
     "ename": "TypeError",
     "evalue": "add() takes 2 positional arguments but 4 were given",
     "output_type": "error",
     "traceback": [
      "\u001b[1;31m---------------------------------------------------------------------------\u001b[0m",
      "\u001b[1;31mTypeError\u001b[0m                                 Traceback (most recent call last)",
      "Cell \u001b[1;32mIn[5], line 3\u001b[0m\n\u001b[0;32m      1\u001b[0m \u001b[38;5;66;03m# Try to add 3 numbers \u001b[39;00m\n\u001b[1;32m----> 3\u001b[0m \u001b[43madd\u001b[49m\u001b[43m(\u001b[49m\u001b[38;5;241;43m4\u001b[39;49m\u001b[43m,\u001b[49m\u001b[38;5;241;43m5\u001b[39;49m\u001b[43m,\u001b[49m\u001b[38;5;241;43m6\u001b[39;49m\u001b[43m,\u001b[49m\u001b[38;5;241;43m8\u001b[39;49m\u001b[43m)\u001b[49m\n",
      "\u001b[1;31mTypeError\u001b[0m: add() takes 2 positional arguments but 4 were given"
     ]
    }
   ],
   "source": [
    "# Try to add 3 numbers \n",
    "\n",
    "add(4,5,6,8)"
   ]
  },
  {
   "cell_type": "code",
   "execution_count": 6,
   "metadata": {},
   "outputs": [],
   "source": [
    "# Creating Arguments inside a function\n",
    "# *args - this willa ct as tuple and can take n numbers of arguments"
   ]
  },
  {
   "cell_type": "code",
   "execution_count": 7,
   "metadata": {},
   "outputs": [],
   "source": [
    "def func(*a):\n",
    "    print(a)\n",
    "    print(type(a))\n",
    "    for i in a:\n",
    "        print(i)"
   ]
  },
  {
   "cell_type": "code",
   "execution_count": 8,
   "metadata": {},
   "outputs": [
    {
     "name": "stdout",
     "output_type": "stream",
     "text": [
      "(1, 2, 3, 5, 8, 9, 5)\n",
      "<class 'tuple'>\n",
      "1\n",
      "2\n",
      "3\n",
      "5\n",
      "8\n",
      "9\n",
      "5\n",
      "None\n"
     ]
    }
   ],
   "source": [
    "s = func(1,2,3,5,8,9,5)\n",
    "print(s)"
   ]
  },
  {
   "cell_type": "code",
   "execution_count": 9,
   "metadata": {},
   "outputs": [
    {
     "name": "stdout",
     "output_type": "stream",
     "text": [
      "('Kshitij ', 'PAtil', 'HR')\n",
      "<class 'tuple'>\n",
      "Kshitij \n",
      "PAtil\n",
      "HR\n",
      "None\n"
     ]
    }
   ],
   "source": [
    "p = func(\"Kshitij \" , \"PAtil\" , \"HR\")\n",
    "print(p)"
   ]
  },
  {
   "cell_type": "code",
   "execution_count": 10,
   "metadata": {},
   "outputs": [
    {
     "data": {
      "text/plain": [
       "list"
      ]
     },
     "execution_count": 10,
     "metadata": {},
     "output_type": "execute_result"
    }
   ],
   "source": [
    "l = [\"Example\" , True , False , 12.5,5,100]\n",
    "type(l)"
   ]
  },
  {
   "cell_type": "code",
   "execution_count": 11,
   "metadata": {},
   "outputs": [
    {
     "name": "stdout",
     "output_type": "stream",
     "text": [
      "('Example', True, False, 12.5, 5, 100)\n",
      "<class 'tuple'>\n",
      "Example\n",
      "True\n",
      "False\n",
      "12.5\n",
      "5\n",
      "100\n"
     ]
    }
   ],
   "source": [
    "func(*l)"
   ]
  },
  {
   "cell_type": "markdown",
   "metadata": {},
   "source": [
    "# Given the cart products of a coustomer perform total billing of products"
   ]
  },
  {
   "cell_type": "markdown",
   "metadata": {},
   "source": [
    "\n",
    "\n"
   ]
  },
  {
   "cell_type": "code",
   "execution_count": 19,
   "metadata": {},
   "outputs": [],
   "source": [
    "\n",
    "c = [\n",
    "\n",
    "(\"Laptop\" , 50000 , 2),\n",
    "(\"Mouse\" , 1000 , 3),\n",
    "(\"Keyboard\" , 5000 , 5)\n",
    "]"
   ]
  },
  {
   "cell_type": "code",
   "execution_count": 20,
   "metadata": {},
   "outputs": [],
   "source": [
    "def billing(*args):\n",
    "    # initialise billing\n",
    "    total_bill = 0\n",
    "\n",
    "    for name , price , qty in args:\n",
    "        subtotal = price*qty\n",
    "        total_bill = total_bill + subtotal\n",
    "        print(f\"His Sub Total is {subtotal} with price {price} and quantity {qty}\")\n",
    "        print(f\"His Total Bill is {total_bill} with sub total {subtotal}\")\n",
    "        print(\"|n*************************************\")\n",
    "\n",
    "    print(f\"Total Bill : {total_bill:.2f} INR\")\n",
    "    return total_bill\n",
    "\n"
   ]
  },
  {
   "cell_type": "code",
   "execution_count": 21,
   "metadata": {},
   "outputs": [
    {
     "data": {
      "text/plain": [
       "[('Laptop', 50000, 2), ('Mouse', 1000, 3), ('Keyboard', 5000, 5)]"
      ]
     },
     "execution_count": 21,
     "metadata": {},
     "output_type": "execute_result"
    }
   ],
   "source": [
    "c"
   ]
  },
  {
   "cell_type": "code",
   "execution_count": 22,
   "metadata": {},
   "outputs": [
    {
     "name": "stdout",
     "output_type": "stream",
     "text": [
      "His Sub Total is 100000 with price 50000 and quantity 2\n",
      "His Total Bill is 100000 with sub total 100000\n",
      "|n*************************************\n",
      "His Sub Total is 3000 with price 1000 and quantity 3\n",
      "His Total Bill is 103000 with sub total 3000\n",
      "|n*************************************\n",
      "His Sub Total is 25000 with price 5000 and quantity 5\n",
      "His Total Bill is 128000 with sub total 25000\n",
      "|n*************************************\n",
      "Total Bill : 128000.00 INR\n"
     ]
    }
   ],
   "source": [
    "t1 = billing(*c)"
   ]
  },
  {
   "cell_type": "code",
   "execution_count": 25,
   "metadata": {},
   "outputs": [
    {
     "name": "stdout",
     "output_type": "stream",
     "text": [
      "128000\n"
     ]
    }
   ],
   "source": [
    "print(t1)"
   ]
  },
  {
   "cell_type": "code",
   "execution_count": 33,
   "metadata": {},
   "outputs": [
    {
     "name": "stdout",
     "output_type": "stream",
     "text": [
      "His Sub Total is 100000 with price 50000 and quantity 2\n",
      "His Total Bill is 100000 with sub total 100000\n",
      "|n*************************************\n",
      "His Sub Total is 200 with price 100 and quantity 2\n",
      "His Total Bill is 100200 with sub total 200\n",
      "|n*************************************\n",
      "His Sub Total is 600 with price 600 and quantity 1\n",
      "His Total Bill is 100800 with sub total 600\n",
      "|n*************************************\n",
      "Total Bill : 100800.00 INR\n"
     ]
    }
   ],
   "source": [
    "c2 = (\n",
    "\n",
    "(\"Mobile\" , 50000 , 2),\n",
    "(\"Screen Guard\" , 100 , 2),\n",
    "(\"Phone Charger\" , 600 , 1)\n",
    ")\n",
    "\n",
    "\n",
    "t2 = billing(*c2)"
   ]
  },
  {
   "cell_type": "code",
   "execution_count": 35,
   "metadata": {},
   "outputs": [
    {
     "name": "stdout",
     "output_type": "stream",
     "text": [
      "His Sub Total is 130000 with price 65000 and quantity 2\n",
      "His Total Bill is 130000 with sub total 130000\n",
      "|n*************************************\n",
      "His Sub Total is 120000 with price 40000 and quantity 3\n",
      "His Total Bill is 250000 with sub total 120000\n",
      "|n*************************************\n",
      "His Sub Total is 100 with price 100 and quantity 1\n",
      "His Total Bill is 250100 with sub total 100\n",
      "|n*************************************\n",
      "Total Bill : 250100.00 INR\n"
     ]
    }
   ],
   "source": [
    "c3 = [\n",
    "\n",
    "(\"Play Station\" , 65000 , 2),\n",
    "(\"PC\" , 40000 , 3),\n",
    "(\"teddi\" , 100 , 1)\n",
    "\n",
    "]\n",
    "\n",
    "t3 = billing(*c3)"
   ]
  },
  {
   "cell_type": "markdown",
   "metadata": {},
   "source": [
    "# Flexibilty in Key word Arguments\n",
    "**kwargs These acts like a dictionary in python"
   ]
  },
  {
   "cell_type": "code",
   "execution_count": 36,
   "metadata": {},
   "outputs": [],
   "source": [
    "def function(**kwargs):\n",
    "    print(kwargs)\n",
    "    print(type(kwargs))\n",
    "    for key , value in kwargs.items():\n",
    "        print(f\"Key :{key} , value : {value}\")"
   ]
  },
  {
   "cell_type": "code",
   "execution_count": 49,
   "metadata": {},
   "outputs": [
    {
     "name": "stdout",
     "output_type": "stream",
     "text": [
      "{'a': 1, 'b': 23, 'name': 'Rahul', 'married': False}\n",
      "<class 'dict'>\n",
      "Key :a , value : 1\n",
      "Key :b , value : 23\n",
      "Key :name , value : Rahul\n",
      "Key :married , value : False\n"
     ]
    }
   ],
   "source": [
    "function(a=1, b=23, name=\"Rahul\", married=False)"
   ]
  },
  {
   "cell_type": "markdown",
   "metadata": {},
   "source": [
    "## Storing Information About Different users"
   ]
  },
  {
   "cell_type": "code",
   "execution_count": 50,
   "metadata": {},
   "outputs": [],
   "source": [
    "# Storing Information about different users"
   ]
  },
  {
   "cell_type": "code",
   "execution_count": 55,
   "metadata": {},
   "outputs": [],
   "source": [
    "def create_user(**kwargs):\n",
    "    user = {\n",
    "        \"username\":None,\n",
    "        \"args\": None,\n",
    "        \"email\": None\n",
    "\n",
    "    }\n",
    "\n",
    "    user.update(kwargs)\n",
    "    return user"
   ]
  },
  {
   "cell_type": "code",
   "execution_count": 56,
   "metadata": {},
   "outputs": [],
   "source": [
    "u1 = create_user(\n",
    "username = \"Kshitij\",\n",
    "age = 31\n",
    "\n",
    ")\n",
    "\n"
   ]
  },
  {
   "cell_type": "code",
   "execution_count": 57,
   "metadata": {},
   "outputs": [
    {
     "data": {
      "text/plain": [
       "{'username': 'Kshitij', 'args': None, 'email': None, 'age': 31}"
      ]
     },
     "execution_count": 57,
     "metadata": {},
     "output_type": "execute_result"
    }
   ],
   "source": [
    "u1"
   ]
  },
  {
   "cell_type": "code",
   "execution_count": null,
   "metadata": {},
   "outputs": [],
   "source": [
    "\n"
   ]
  }
 ],
 "metadata": {
  "kernelspec": {
   "display_name": "venv",
   "language": "python",
   "name": "python3"
  },
  "language_info": {
   "codemirror_mode": {
    "name": "ipython",
    "version": 3
   },
   "file_extension": ".py",
   "mimetype": "text/x-python",
   "name": "python",
   "nbconvert_exporter": "python",
   "pygments_lexer": "ipython3",
   "version": "3.12.0"
  }
 },
 "nbformat": 4,
 "nbformat_minor": 2
}
